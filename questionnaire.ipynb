{
 "cells": [
  {
   "cell_type": "markdown",
   "metadata": {},
   "source": [
    "<a id='HOME'></a>\n",
    "# **推心致富 - 推薦選股系統**\n",
    "\n",
    "* [1 資料更新](#n1)\n",
    "* [2 問券調查](#n2)\n",
    "* [3 檢查widgets是否能正常使用](#n3)\n",
    "* [4 畫時間序列走勢圖](#n4)\n",
    "* [5 畫出K線圖+交易量](#n5)"
   ]
  },
  {
   "cell_type": "markdown",
   "metadata": {},
   "source": [
    "------\n",
    "<a id='n1'></a>\n",
    "## 1 資料更新\n",
    "[回目錄](#HOME)"
   ]
  },
  {
   "cell_type": "code",
   "execution_count": 1,
   "metadata": {
    "ExecuteTime": {
     "end_time": "2020-05-03T03:10:25.639048Z",
     "start_time": "2020-05-03T03:10:25.016615Z"
    }
   },
   "outputs": [
    {
     "data": {
      "application/vnd.jupyter.widget-view+json": {
       "model_id": "16eb6f323eba4c7390526ce65d6327c6",
       "version_major": 2,
       "version_minor": 0
      },
      "text/plain": [
       "VBox(children=(HTML(value='<p style=\\'position:relative; left:10px; padding:20px; border-radius:25px; color:wh…"
      ]
     },
     "metadata": {},
     "output_type": "display_data"
    }
   ],
   "source": [
    "import datetime as dt\n",
    "import time as t\n",
    "from ipywidgets import widgets,interact, interactive, interact_manual,  interactive_output\n",
    "from IPython.display import display, HTML\n",
    "\n",
    "import numpy as np\n",
    "from matplotlib import pyplot as plt\n",
    "import pandas as pd\n",
    "import sqlite3\n",
    "\n",
    "\n",
    "#datetime_dt = dt.datetime.today()# 獲得當地時間\n",
    "#datetime_str = datetime_dt.strftime(\"%Y/%m/%d %H:%M:%S\")  # 格式化日期\n",
    "\n",
    "style = \"<p style='position:relative; left:10px; padding:20px; border-radius:25px; color:white; background:#4080FF; width:400px;'>\"\n",
    "Title1=widgets.HTML(style + '<font size=\"4\">您好，歡迎您來到機器人理財系統</font>'+ '</p> <br>')\n",
    "\n",
    "today_date=dt.datetime.today()\n",
    "\n",
    "today_date_str=today_date.strftime(\"%Y-%m-%d\")\n",
    "a1=widgets.Label(\"今天日期：%s\"%(today_date_str) )\n",
    "\n",
    "d1=dt.datetime(2010, 1, 1)\n",
    "d2=dt.datetime(2020, 3, 20)\n",
    "\n",
    "a2=widgets.Label(\"資料期間：%s ~ %s\"%(d1.strftime('%Y-%m-%d'),d2.strftime('%Y-%m-%d')))\n",
    "\n",
    "a3=widgets.Label(\"請選擇更新的資料期間範圍：\")\n",
    "output = widgets.Output()\n",
    "start_date = widgets.DatePicker(\n",
    "    value = d1,\n",
    "    description='開始日：',\n",
    "    disabled=False,\n",
    ")\n",
    "end_date = widgets.DatePicker(\n",
    "    value = d2,\n",
    "    description='結束日：',\n",
    "    disabled=False,\n",
    ")\n",
    "\n",
    "\n",
    "def f(start,end):\n",
    "    if int(start.strftime('%Y%m%d'))>int(end.strftime('%Y%m%d')):\n",
    "        print(\"你輸入的日期範圍錯誤！\")\n",
    "    elif int(start.strftime('%Y%m%d'))<int(d1.strftime('%Y%m%d')):\n",
    "        print(\"你輸入的起始日小於資料開始期間！\")\n",
    "    elif int(end.strftime('%Y%m%d'))>int(today_date.strftime('%Y%m%d')):\n",
    "        print(\"你輸入的結束日大於今天日期！\")\n",
    "    else:\n",
    "        print(\"輸入正確，請點選底下按鈕開始更新資料！\")\n",
    "dateselection=interactive(f,start=start_date, end=end_date)\n",
    "\n",
    "button = widgets.Button(description=\"開始更新資料\")\n",
    "\n",
    "p=widgets.IntProgress(\n",
    "    value=0,\n",
    "    min=0,\n",
    "    max=100,\n",
    "    step=1,\n",
    "    description='下載中:',\n",
    "    bar_style='', # 'success', 'info', 'warning', 'danger' or ''\n",
    "    orientation='horizontal'\n",
    ")\n",
    "def on_button_clicked(b):\n",
    "    for i in range(101):\n",
    "        p.value = i\n",
    "        t.sleep(0.1)\n",
    "button.on_click(on_button_clicked)\n",
    "\n",
    "\n",
    "dashboard=widgets.VBox([Title1,a1,a2, widgets.HBox([a3, dateselection]),button,p])\n",
    "display(dashboard)"
   ]
  },
  {
   "cell_type": "markdown",
   "metadata": {},
   "source": [
    "------\n",
    "<a id='n2'></a>\n",
    "## 2 問券調查\n",
    "[回目錄](#HOME)"
   ]
  },
  {
   "cell_type": "code",
   "execution_count": 2,
   "metadata": {
    "ExecuteTime": {
     "end_time": "2020-05-03T03:10:25.834525Z",
     "start_time": "2020-05-03T03:10:25.640044Z"
    },
    "scrolled": true
   },
   "outputs": [
    {
     "data": {
      "application/vnd.jupyter.widget-view+json": {
       "model_id": "32a21974793e49928b755ee03fb53d1f",
       "version_major": 2,
       "version_minor": 0
      },
      "text/plain": [
       "VBox(children=(HTML(value='<p style=\\'position:relative; left:10px; padding:20px; border-radius:25px; color:wh…"
      ]
     },
     "metadata": {},
     "output_type": "display_data"
    }
   ],
   "source": [
    "q1 = widgets.RadioButtons(\n",
    "    options=[('(1) 70歲以上',1),('(2) 60~69歲',2), ('(3) 50~59歲',3), ('(5) 30~49歲',5),('(4) 20~29歲',4) ],\n",
    "    value=1,\n",
    "    #description='1. 年紀：',\n",
    "    disabled=False\n",
    ")\n",
    "\n",
    "q2 = widgets.RadioButtons(\n",
    "    options=[('(1) 50 萬以下',1),('(2) 50 萬(含)〜100 萬',2), (' (3) 100 萬(含)〜150 萬',3), \n",
    "             ('(4) 150 萬(含)〜200 萬',4), ('(5) 200 萬(含)以上',5)],\n",
    "    value=1,\n",
    "    #description='2. 請問您的個人年所得(新台幣元)：',\n",
    "    disabled=False\n",
    ")\n",
    "\n",
    "q3 = widgets.RadioButtons(\n",
    "    options=[('(1) 台外幣存款、貨幣型基金、儲蓄型保險',1),('(2) 債券、債券型基金',2), ('(3) 股票、股票型基金、ETF',3), \n",
    "             ('(4) 結構型商品、投資型保',4), ('(5) 期貨、選擇權或其他衍生性金融商品',5)],\n",
    "    value=1,\n",
    "    #description='3. 請問您曾經投資過那些金融商品(選數字較大的)？(投資經驗-商品)',\n",
    "    disabled=False\n",
    ")\n",
    "\n",
    "q4 = widgets.RadioButtons(\n",
    "    options=[('(1)對股票的分析',1), ('(2)對市場的分析',3)],\n",
    "    value=1,\n",
    "    #description='4. 決定買進或賣出的關鍵是？',\n",
    "    disabled=False\n",
    ")\n",
    "\n",
    "q5 = widgets.RadioButtons(\n",
    "    options=[('(1)小有利潤時便賣出',0),('(2)獲得大利時才賣出',0), ('(3)不計得失',3)],\n",
    "    value=0,\n",
    "    #description='5. 我何時會拋售股票？',\n",
    "    disabled=False\n",
    ")\n",
    "\n",
    "q6 = widgets.RadioButtons(\n",
    "    options=[('(1)是',3),('(2)否',0),],\n",
    "    value=3,\n",
    "    #description='6. 我也會買瀕臨破產公司的股票，就像會買狀況不好的債卷一樣嗎？',\n",
    "    disabled=False\n",
    ")\n",
    "\n",
    "q7 = widgets.RadioButtons(\n",
    "    options=[('(1)立即行動',3),('(2)再考慮一遍',0),],\n",
    "    value=3,\n",
    "    #description='7.一但做出決定後，我將',\n",
    "    disabled=False\n",
    ")\n",
    "\n",
    "q8 = widgets.RadioButtons(\n",
    "    options=[('(1)敏感',2),('(2)靈活',3), ('(3)清醒',1), \n",
    "             ('(4)想像力',2), ('(5)攻擊性',0)],\n",
    "    value=2,\n",
    "    #description='8. 股票族最好的特質是：',\n",
    "    disabled=False\n",
    ")\n",
    "\n",
    "q9 = widgets.RadioButtons(\n",
    "    options=[('(1) 至少20年以上',5),('(2) 10至20年',4), ('(3) 6至10年',3), \n",
    "             ('(4) 2至5年',2), ('(5) 2年以內',1)],\n",
    "    value=5,\n",
    "    #description='9. 你計畫從何時開始提領你投資的部分金額？',\n",
    "    disabled=False\n",
    ")\n",
    "\n",
    "q10 = widgets.RadioButtons(\n",
    "    layout={'width': 'initial'},\n",
    "    options=[('(1) 我尋求長期投資報酬最大化，所以可以承擔因市場價格波動所造成的較大的投資風險',5),\n",
    "             ('(2) 我比較注重投資報酬率的增加，所以可以承擔一些因市場價格波動所造成的短期風險投資',4), \n",
    "             ('(3) 市場價格波動與投資報酬率對我來說同樣重要',3), \n",
    "             ('(4) 我比較希望市場價格的波動小，投資報酬率低一些沒關係',2), \n",
    "             ('(5) 我想要避開市場價格波動，願意接受低的投資報酬率，而不願意承受資產虧損的風險',1)],\n",
    "    value=5,\n",
    "    #description='10. 以下哪一項描述比較接近你對投資的態度？\\n',\n",
    "    disabled=False\n",
    ")\n",
    "\n",
    "q11 = widgets.RadioButtons(\n",
    "    options=[('(1) 增加投資',5),('(2) 繼續持有該標的',4), ('(3) 賣掉少於一半的部位',3), \n",
    "             ('(4) 賣掉大於一半的部位',2), ('(5) 賣掉所有的部位',1)],\n",
    "    value=5,\n",
    "    #description='11. 假設你有一筆龐大的金額投資在股票中，並且在過去的一年中該筆投資價值持續下滑，\\n比方說：你的資產在這段時期中下跌了25%。你可能會採取什麼行動？',\n",
    "    disabled=False\n",
    ")\n",
    "\n",
    "\n",
    "style1 = \"<p style='padding:10px; border-radius:25px; color:white; background:#60bf28; width:320px;'>\"\n",
    "style2 = \"<p style='padding:10px; border-radius:25px; background:#F1F0F0; width:320px;'>\"\n",
    "style3 = \"<p style='padding:10px; border-radius:25px; color:white; background:#FF0000; width:320px;'>\"\n",
    "def f(a1,a2,a3,a4,a5,a6,a7,a8,a9,a10,a11):\n",
    "    risk=a1+a2+a3+a4+a5+a6+a7+a8+a9+a10+a11\n",
    "    if risk<=20:\n",
    "        display(widgets.HTML(style1 + '<font size=\"3\">您的風險分數為%d分，您是風險趨避者。</font>'%risk + '</p> <br>'))\n",
    "    elif risk<30:\n",
    "        display(widgets.HTML(style2 + '<font size=\"3\">您的風險分數為%d分，您是風險中立者。</font>'%risk + '</p> <br>'))\n",
    "    else:\n",
    "        display(widgets.HTML(style3 + '<font size=\"3\">您的風險分數為%d分，您是風險愛好者。</font>'%risk + '</p> <br>'))\n",
    "    return risk\n",
    "out=interactive_output(f, {'a1':q1,'a2':q2,'a3':q3,'a4':q4,'a5':q5,'a6':q6,'a7':q7,'a8':q8,'a9':q9,'a10':q10,'a11':q11})\n",
    "\n",
    "##################################################################################\n",
    "#                          精美排版                                               #\n",
    "##################################################################################\n",
    "style4 = \"<p style='position:relative; left:10px; padding:20px; border-radius:25px; color:white; background:#4080FF; width:400px;'>\"\n",
    "Survey_title=widgets.HTML(style4 + '<font size=\"4\">歡迎來到機器人理財世界，請回答下列問題：</font>' + '</p> <br>')\n",
    "\n",
    "item_layout = widgets.Layout(margin='0 0 50px 0')\n",
    "tab = widgets.Tab([widgets.VBox([widgets.Label(\"1. 年紀：\"), q1]), \\\n",
    "                   widgets.VBox([widgets.Label(\"2. 請問您的個人年所得(新台幣元)：\"), q2]), \\\n",
    "                   widgets.VBox([widgets.Label(\"3. 請問您曾經投資過那些金融商品(選數字較大的)？(投資經驗-商品)\"), q3]), \\\n",
    "                   widgets.VBox([widgets.Label(\"4. 決定買進或賣出的關鍵是？\"), q4]), \\\n",
    "                   widgets.VBox([widgets.Label(\"5. 我何時會拋售股票？\"), q5]), \\\n",
    "                   widgets.VBox([widgets.Label(\"6. 我也會買瀕臨破產公司的股票，就像會買狀況不好的債卷一樣嗎？\"), q6]), \\\n",
    "                   widgets.VBox([widgets.Label(\"7.一但做出決定後，我將\"), q7]), \\\n",
    "                   widgets.VBox([widgets.Label(\"8. 股票族最好的特質是：\"), q8]), \\\n",
    "                   widgets.VBox([widgets.Label(\"9. 你計畫從何時開始提領你投資的部分金額？\"), q9]), \\\n",
    "                   widgets.VBox([widgets.Label(\"10. 以下哪一項描述比較接近你對投資的態度？\"), q10]), \\\n",
    "                   widgets.VBox([widgets.Label(\"11. 假設你有一筆龐大的金額投資在股票中，並且在過去的一年中該筆投資價值持續下滑，比方說：你的資產在這段時期中下跌了25%。你可能會採取什麼行動？\"), q11])\n",
    "                  ],layout=item_layout)\n",
    "tab.set_title(0, 'Q1')\n",
    "tab.set_title(1, 'Q2')\n",
    "tab.set_title(2, 'Q3')\n",
    "tab.set_title(3, 'Q4')\n",
    "tab.set_title(4, 'Q5')\n",
    "tab.set_title(5, 'Q6')\n",
    "tab.set_title(6, 'Q7')\n",
    "tab.set_title(7, 'Q8')\n",
    "tab.set_title(8, 'Q9')\n",
    "tab.set_title(9, 'Q10')\n",
    "tab.set_title(10, 'Q11')\n",
    "\n",
    "accordion = widgets.Accordion(children=[tab, out])\n",
    "accordion.set_title(0, '問券調查1')\n",
    "accordion.set_title(1, '風險屬性分析結果')\n",
    "dashboard = widgets.VBox([Survey_title,accordion])\n",
    "display(dashboard)"
   ]
  },
  {
   "cell_type": "markdown",
   "metadata": {},
   "source": [
    "------\n",
    "<a id='n3'></a>\n",
    "## 3 檢查widgets是否能正常使用\n",
    "[回目錄](#HOME)"
   ]
  },
  {
   "cell_type": "code",
   "execution_count": 8,
   "metadata": {
    "ExecuteTime": {
     "end_time": "2020-05-03T03:32:08.611262Z",
     "start_time": "2020-05-03T03:32:08.457680Z"
    },
    "scrolled": false
   },
   "outputs": [
    {
     "data": {
      "application/vnd.jupyter.widget-view+json": {
       "model_id": "9dea2180a9574f699ac248498a5b8c34",
       "version_major": 2,
       "version_minor": 0
      },
      "text/plain": [
       "RadioButtons(description='1. 年紀：', options=(('(1) 70歲以上', 1), ('(2) 60~69歲', 2), ('(3) 50~59歲', 3), ('(5) 30~4…"
      ]
     },
     "metadata": {},
     "output_type": "display_data"
    },
    {
     "data": {
      "application/vnd.jupyter.widget-view+json": {
       "model_id": "fe50685efd054c9083b2b60e87c3b05e",
       "version_major": 2,
       "version_minor": 0
      },
      "text/plain": [
       "FloatSlider(value=7.5, continuous_update=False, description='Test:', max=10.0, readout_format='.1f')"
      ]
     },
     "metadata": {},
     "output_type": "display_data"
    },
    {
     "data": {
      "application/vnd.jupyter.widget-view+json": {
       "model_id": "65ee487d6f57449ebb32de92a9ebf309",
       "version_major": 2,
       "version_minor": 0
      },
      "text/plain": [
       "IntProgress(value=7, description='Loading:', max=10)"
      ]
     },
     "metadata": {},
     "output_type": "display_data"
    },
    {
     "data": {
      "application/vnd.jupyter.widget-view+json": {
       "model_id": "78eee21cfcfe43edb90ad9c49f1efd9f",
       "version_major": 2,
       "version_minor": 0
      },
      "text/plain": [
       "Text(value='Hello World', description='String:', placeholder='Type something')"
      ]
     },
     "metadata": {},
     "output_type": "display_data"
    },
    {
     "data": {
      "application/vnd.jupyter.widget-view+json": {
       "model_id": "f5f264c7fc48410083f736bf48f2c582",
       "version_major": 2,
       "version_minor": 0
      },
      "text/plain": [
       "Button(button_style='success', description='Click me', icon='check', style=ButtonStyle(), tooltip='Click me')"
      ]
     },
     "metadata": {},
     "output_type": "display_data"
    },
    {
     "data": {
      "application/vnd.jupyter.widget-view+json": {
       "model_id": "77e3c4b2322e4da19f2e4e864155fe39",
       "version_major": 2,
       "version_minor": 0
      },
      "text/plain": [
       "Dropdown(description='Number:', index=1, options=(('One', 1), ('Two', 2), ('Three', 3)), value=2)"
      ]
     },
     "metadata": {},
     "output_type": "display_data"
    },
    {
     "data": {
      "application/vnd.jupyter.widget-view+json": {
       "model_id": "630d0c0fd01b4d59be9312c360c2f8c3",
       "version_major": 2,
       "version_minor": 0
      },
      "text/plain": [
       "Select(description='OS:', index=2, options=('Linux', 'Windows', 'OSX'), value='OSX')"
      ]
     },
     "metadata": {},
     "output_type": "display_data"
    },
    {
     "data": {
      "application/vnd.jupyter.widget-view+json": {
       "model_id": "7e92819016f14a4ba8aa816413979eb7",
       "version_major": 2,
       "version_minor": 0
      },
      "text/plain": [
       "SelectionSlider(continuous_update=False, description='I like my eggs ...', index=1, options=('scrambled', 'sun…"
      ]
     },
     "metadata": {},
     "output_type": "display_data"
    },
    {
     "data": {
      "application/vnd.jupyter.widget-view+json": {
       "model_id": "98d834eea2804225946804235019d7ba",
       "version_major": 2,
       "version_minor": 0
      },
      "text/plain": [
       "ToggleButtons(description='Speed:', options=('Slow', 'Regular', 'Fast'), value='Slow')"
      ]
     },
     "metadata": {},
     "output_type": "display_data"
    },
    {
     "data": {
      "application/vnd.jupyter.widget-view+json": {
       "model_id": "18d30b1a0919463399779ddcfa490182",
       "version_major": 2,
       "version_minor": 0
      },
      "text/plain": [
       "Box(children=(Label(value='Pizza topping with a very long label:'), RadioButtons(layout=Layout(width='max-cont…"
      ]
     },
     "metadata": {},
     "output_type": "display_data"
    },
    {
     "data": {
      "application/vnd.jupyter.widget-view+json": {
       "model_id": "c47f7a963f1947bfb920845b59fd82b2",
       "version_major": 2,
       "version_minor": 0
      },
      "text/plain": [
       "FloatRangeSlider(value=(-1.0, 1.0), description='xlim:', max=5.0, min=-5.0, readout_format='.1f')"
      ]
     },
     "metadata": {},
     "output_type": "display_data"
    }
   ],
   "source": [
    "w1 = widgets.RadioButtons(\n",
    "    options=[('(1) 70歲以上',1),('(2) 60~69歲',2), ('(3) 50~59歲',3), ('(5) 30~49歲',5),('(4) 20~29歲',4) ],\n",
    "    value=1,\n",
    "    description='1. 年紀：',\n",
    "    disabled=False\n",
    ")\n",
    "display(w1)\n",
    "w2=widgets.FloatSlider(\n",
    "    value=7.5,\n",
    "    min=0,\n",
    "    max=10.0,\n",
    "    step=0.1,\n",
    "    description='Test:',\n",
    "    disabled=False,\n",
    "    continuous_update=False,\n",
    "    orientation='horizontal',\n",
    "    readout=True,\n",
    "    readout_format='.1f',\n",
    ")\n",
    "display(w2)\n",
    "w3=widgets.IntProgress(\n",
    "    value=7,\n",
    "    min=0,\n",
    "    max=10,\n",
    "    step=1,\n",
    "    description='Loading:',\n",
    "    bar_style='', # 'success', 'info', 'warning', 'danger' or ''\n",
    "    orientation='horizontal'\n",
    ")\n",
    "display(w3)\n",
    "w4=widgets.Text(\n",
    "    value='Hello World',\n",
    "    placeholder='Type something',\n",
    "    description='String:',\n",
    "    disabled=False\n",
    ")\n",
    "display(w4)\n",
    "w5=widgets.Button(\n",
    "    description='Click me',\n",
    "    disabled=False,\n",
    "    button_style='success', # 'success', 'info', 'warning', 'danger' or ''\n",
    "    tooltip='Click me',\n",
    "    icon='check'\n",
    ")\n",
    "display(w5)\n",
    "w5=widgets.Dropdown(\n",
    "    options=[('One', 1), ('Two', 2), ('Three', 3)],\n",
    "    value=2,\n",
    "    description='Number:',\n",
    ")\n",
    "display(w5)\n",
    "w6=widgets.Select(\n",
    "    options=['Linux', 'Windows', 'OSX'],\n",
    "    value='OSX',\n",
    "    # rows=10,\n",
    "    description='OS:',\n",
    "    disabled=False\n",
    ")\n",
    "display(w6)\n",
    "w7=widgets.SelectionSlider(\n",
    "    options=['scrambled', 'sunny side up', 'poached', 'over easy'],\n",
    "    value='sunny side up',\n",
    "    description='I like my eggs ...',\n",
    "    disabled=False,\n",
    "    continuous_update=False,\n",
    "    orientation='horizontal',\n",
    "    readout=True\n",
    ")\n",
    "display(w7)\n",
    "w8=widgets.ToggleButtons(\n",
    "    options=['Slow', 'Regular', 'Fast'],\n",
    "    description='Speed:',\n",
    "    disabled=False,\n",
    "    button_style='', # 'success', 'info', 'warning', 'danger' or ''\n",
    "    #tooltips=['Description of slow', 'Description of regular', 'Description of fast'],\n",
    "#     icons=['check'] * 3\n",
    ")\n",
    "display(w8)\n",
    "w9=widgets.Box(\n",
    "    [\n",
    "        widgets.Label(value='Pizza topping with a very long label:'),\n",
    "        widgets.RadioButtons(\n",
    "            options=[\n",
    "                'pepperoni',\n",
    "                'pineapple',\n",
    "                'anchovies',\n",
    "                'and the long name that will fit fine and the long name that will fit fine and the long name that will fit fine '\n",
    "            ],\n",
    "            layout={'width': 'max-content'}\n",
    "        )\n",
    "    ]\n",
    ")\n",
    "display(w9)\n",
    "w10= widgets.FloatRangeSlider(\n",
    "    value=[-1., +1.],\n",
    "    min=-5., max=+5., step=0.1,\n",
    "    description='xlim:',\n",
    "    readout_format='.1f',\n",
    ")\n",
    "display(w10)"
   ]
  },
  {
   "cell_type": "markdown",
   "metadata": {},
   "source": [
    "------\n",
    "<a id='n4'></a>\n",
    "## 4 畫時間序列走勢圖\n",
    "[回目錄](#HOME)"
   ]
  },
  {
   "cell_type": "code",
   "execution_count": 18,
   "metadata": {
    "ExecuteTime": {
     "end_time": "2020-05-03T03:36:54.933837Z",
     "start_time": "2020-05-03T03:36:32.803119Z"
    }
   },
   "outputs": [],
   "source": [
    "#conn = sqlite3.connect('C:/Users/AsusNotebook/Google 雲端硬碟/大學部專題計畫/Crawler/data.db')\n",
    "#ret = pd.read_sql('select permno,sname,date,open,close,high,low,volume from small_TEJ_daily_stock_unadjusted', conn)\n",
    "\n",
    "#只保留股票代碼為4碼，且代碼範圍介於0050~9999之間。\n",
    "#ret=ret[(ret['permno'] == '0050')|(ret['permno'] == '2330')|(ret['permno'] == '2412')|(ret['permno'] == '2376')|(ret['permno'] == '2357')]\n",
    "#ret['date'] = pd.to_datetime(ret['date'].astype(str), format='%Y-%m-%d')\n",
    "#conn1 = sqlite3.connect('data.db')\n",
    "#存檔 if_exists='replace' 是說假如sql中已經有 daily_price 這個 dataframe，則取代它\n",
    "#ret.to_sql('small_TEJ_daily_stock_unadjusted', conn1, if_exists='replace')# 將 sql 通道打開"
   ]
  },
  {
   "cell_type": "code",
   "execution_count": 23,
   "metadata": {
    "ExecuteTime": {
     "end_time": "2020-05-03T03:38:59.665041Z",
     "start_time": "2020-05-03T03:38:59.470522Z"
    }
   },
   "outputs": [
    {
     "data": {
      "application/vnd.jupyter.widget-view+json": {
       "model_id": "aee593d1f7ad4b8e8eb48f89de9996ab",
       "version_major": 2,
       "version_minor": 0
      },
      "text/plain": [
       "interactive(children=(ToggleButtons(description='股票代碼：', options=('0050 元大台灣50', '2330 台積電', '2357 華碩', '2376 …"
      ]
     },
     "metadata": {},
     "output_type": "display_data"
    },
    {
     "data": {
      "text/plain": [
       "<function __main__.plotclose(股票代碼)>"
      ]
     },
     "execution_count": 23,
     "metadata": {},
     "output_type": "execute_result"
    }
   ],
   "source": [
    "conn = sqlite3.connect('data.db')\n",
    "ret = pd.read_sql('select permno,sname,date,open,close,high,low,volume from small_TEJ_daily_stock_unadjusted', conn)\n",
    "ret['date'] = pd.to_datetime(ret['date'].astype(str), format='%Y-%m-%d')\n",
    "ret['permno_sname']=(ret['permno']+' '+ret['sname'])\n",
    "stk=ret['permno_sname'].unique().tolist()\n",
    "# 換成seaborn的風格，要回到原本matplotlib則輸入classic\n",
    "select_stock=widgets.ToggleButtons(\n",
    "    options=stk,\n",
    "    description='股票代碼：',\n",
    "    disabled=False,\n",
    "    button_style='', # 'success', 'info', 'warning', 'danger' or ''\n",
    "    #tooltips=['Description of slow', 'Description of regular', 'Description of fast'],\n",
    "#     icons=['check'] * 3\n",
    ")\n",
    "\n",
    "plt.style.use('seaborn')\n",
    "plt.rcParams[\"figure.figsize\"] = (15,7.5)\n",
    "def plotclose(股票代碼):\n",
    "    ss=ret[['date','close']][ret['permno_sname']==股票代碼]\n",
    "    ss.plot(x='date',y='close',kind='line',legend=False)\n",
    "    plt.show()\n",
    "interact(plotclose, 股票代碼=select_stock)"
   ]
  },
  {
   "cell_type": "markdown",
   "metadata": {},
   "source": [
    "------\n",
    "<a id='n5'></a>\n",
    "## 5 畫出K線圖+交易量\n",
    "[回目錄](#HOME)"
   ]
  },
  {
   "cell_type": "code",
   "execution_count": 24,
   "metadata": {
    "ExecuteTime": {
     "end_time": "2020-05-03T03:39:09.618938Z",
     "start_time": "2020-05-03T03:39:08.901857Z"
    }
   },
   "outputs": [
    {
     "data": {
      "application/vnd.jupyter.widget-view+json": {
       "model_id": "bbbb9c578b3c461d8531d7351ccfc175",
       "version_major": 2,
       "version_minor": 0
      },
      "text/plain": [
       "interactive(children=(ToggleButtons(description='股票代碼：', options=('0050 元大台灣50', '2330 台積電', '2357 華碩', '2376 …"
      ]
     },
     "metadata": {},
     "output_type": "display_data"
    },
    {
     "data": {
      "text/plain": [
       "<function __main__.plotkvol(股票代碼)>"
      ]
     },
     "execution_count": 24,
     "metadata": {},
     "output_type": "execute_result"
    }
   ],
   "source": [
    "plt.rcParams[\"figure.figsize\"] = (20,10)\n",
    "\n",
    "def plot_candles(start_time, end_time, pricing, title=None,\n",
    "                 volume_bars=False,\n",
    "                 color_function=None,\n",
    "                 overlays=None,\n",
    "                 technicals=None,\n",
    "                 technicals_titles=None):\n",
    "    \"\"\" Plots a candlestick chart using quantopian pricing data.\n",
    "    \n",
    "    Author: Daniel Treiman\n",
    "    \n",
    "    Args:\n",
    "      pricing: A pandas dataframe with columns ['open', 'close', 'high', 'low', 'volume']\n",
    "      title: An optional title for the chart\n",
    "      volume_bars: If True, plots volume bars\n",
    "      color_function: A function which, given a row index and price series, returns a candle color.\n",
    "      overlays: A list of additional data series to overlay on top of pricing.  Must be the same length as pricing.\n",
    "      technicals: A list of additional data series to display as subplots.\n",
    "      technicals_titles: A list of titles to display for each technical indicator.\n",
    "    \"\"\"\n",
    "    \n",
    "    pricing = pricing[start_time:end_time]\n",
    "    if overlays is not None:\n",
    "        overlays = [o[start_time:end_time] for o in overlays]\n",
    "    if technicals is not None:\n",
    "        technicals = [t[start_time:end_time] for t in technicals]\n",
    "    \n",
    "    def default_color(index, open_price, close_price, low, high):\n",
    "        return 'g' if open_price[index] > close_price[index] else 'r'\n",
    "    color_function = color_function or default_color\n",
    "    overlays = overlays or []\n",
    "    technicals = technicals or []\n",
    "    technicals_titles = technicals_titles or []\n",
    "    open_price = pricing['open']\n",
    "    close_price = pricing['close']\n",
    "    low = pricing['low']\n",
    "    high = pricing['high']\n",
    "    oc_min = pd.concat([open_price, close_price], axis=1).min(axis=1)\n",
    "    oc_max = pd.concat([open_price, close_price], axis=1).max(axis=1)\n",
    "    \n",
    "    subplot_count = 1\n",
    "    if volume_bars:\n",
    "        subplot_count = 2\n",
    "    if technicals:\n",
    "        subplot_count += len(technicals)\n",
    "    \n",
    "    if subplot_count == 1:\n",
    "        fig, ax1 = plt.subplots(1, 1)\n",
    "    else:\n",
    "        ratios = np.insert(np.full(subplot_count - 1, 1), 0, 3)\n",
    "        fig, subplots = plt.subplots(subplot_count, 1, sharex=True, gridspec_kw={'height_ratios': ratios})\n",
    "        ax1 = subplots[0]\n",
    "        \n",
    "    if title:\n",
    "        ax1.set_title(title)\n",
    "    x = np.arange(len(pricing))\n",
    "    candle_colors = [color_function(i, open_price, close_price, low, high) for i in x]\n",
    "    candles = ax1.bar(x, oc_max-oc_min, bottom=oc_min, color=candle_colors, linewidth=0)\n",
    "    lines = ax1.vlines(x , low, high, color=candle_colors, linewidth=1)#+ 0.4\n",
    "    ax1.xaxis.grid(False)\n",
    "    ax1.xaxis.set_tick_params(which='major', length=3.0, direction='in', top=False)\n",
    "    # Assume minute frequency if first two bars are in the same day.\n",
    "    frequency = 'minute' if (pricing.index[1] - pricing.index[0]).days == 0 else 'day'\n",
    "    time_format = '%Y-%m-%d'\n",
    "    if frequency == 'minute':\n",
    "        time_format = '%H:%M'\n",
    "    # Set X axis tick labels.\n",
    "    ticks = [date.strftime(time_format) for date in pricing.index]\n",
    "    space = max(int(len(ticks) / 20), 1)\n",
    "    \n",
    "    for i, t in enumerate(ticks):\n",
    "        ticks[i] = t if i%space == 0 or i == len(ticks) - 1 else ''\n",
    "        \n",
    "    plt.xticks(x, ticks, rotation='vertical')\n",
    "    for overlay in overlays:\n",
    "        ax1.plot(x, overlay)\n",
    "    # Plot volume bars if needed\n",
    "    if volume_bars:\n",
    "        ax2 = subplots[1]\n",
    "        volume = pricing['volume']\n",
    "        volume_scale = None\n",
    "        scaled_volume = volume\n",
    "        if volume.max() > 1000000:\n",
    "            volume_scale = 'M'\n",
    "            scaled_volume = volume / 1000000\n",
    "        elif volume.max() > 1000:\n",
    "            volume_scale = 'K'\n",
    "            scaled_volume = volume / 1000\n",
    "        ax2.bar(x, scaled_volume, color=candle_colors)\n",
    "        volume_title = 'Volume'\n",
    "        if volume_scale:\n",
    "            volume_title = 'Volume (%s)' % volume_scale\n",
    "        ax2.set_title(volume_title)\n",
    "        ax2.xaxis.grid(False)\n",
    "    # Plot additional technical indicators\n",
    "    for (i, technical) in enumerate(technicals):\n",
    "        ax = subplots[i - len(technicals)] # Technical indicator plots are shown last\n",
    "        ax.plot(x, technical)\n",
    "        if i < len(technicals_titles):\n",
    "            ax.set_title(technicals_titles[i])\n",
    "\n",
    "def plotkvol(股票代碼):\n",
    "    ss=ret[['date','open','close','high','low','volume']][ret['permno_sname']==股票代碼]\n",
    "    ss.set_index(['date'], inplace=True)\n",
    "    plot_candles('2019-09-01', '2020-03-01', ss, title=None,\n",
    "                     volume_bars=True,\n",
    "                     color_function=None,\n",
    "                     overlays=None,\n",
    "                     technicals=None,\n",
    "                     technicals_titles=None)\n",
    "\n",
    "interact(plotkvol, 股票代碼=select_stock)"
   ]
  }
 ],
 "metadata": {
  "hide_input": false,
  "kernelspec": {
   "display_name": "Python 3",
   "language": "python",
   "name": "python3"
  },
  "language_info": {
   "codemirror_mode": {
    "name": "ipython",
    "version": 3
   },
   "file_extension": ".py",
   "mimetype": "text/x-python",
   "name": "python",
   "nbconvert_exporter": "python",
   "pygments_lexer": "ipython3",
   "version": "3.7.4"
  },
  "varInspector": {
   "cols": {
    "lenName": 16,
    "lenType": 16,
    "lenVar": 40
   },
   "kernels_config": {
    "python": {
     "delete_cmd_postfix": "",
     "delete_cmd_prefix": "del ",
     "library": "var_list.py",
     "varRefreshCmd": "print(var_dic_list())"
    },
    "r": {
     "delete_cmd_postfix": ") ",
     "delete_cmd_prefix": "rm(",
     "library": "var_list.r",
     "varRefreshCmd": "cat(var_dic_list()) "
    }
   },
   "types_to_exclude": [
    "module",
    "function",
    "builtin_function_or_method",
    "instance",
    "_Feature"
   ],
   "window_display": false
  }
 },
 "nbformat": 4,
 "nbformat_minor": 4
}
